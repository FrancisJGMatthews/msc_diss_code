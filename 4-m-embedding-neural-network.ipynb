{
 "cells": [
  {
   "cell_type": "code",
   "execution_count": 1,
   "id": "5819b577",
   "metadata": {
    "execution": {
     "iopub.execute_input": "2024-09-04T19:56:57.078189Z",
     "iopub.status.busy": "2024-09-04T19:56:57.077987Z",
     "iopub.status.idle": "2024-09-04T19:56:58.374438Z",
     "shell.execute_reply": "2024-09-04T19:56:58.374057Z"
    },
    "papermill": {
     "duration": 1.301198,
     "end_time": "2024-09-04T19:56:58.375635",
     "exception": false,
     "start_time": "2024-09-04T19:56:57.074437",
     "status": "completed"
    },
    "tags": []
   },
   "outputs": [],
   "source": [
    "import pandas as pd\n",
    "import os \n",
    "\n",
    "import torch\n",
    "from torch import nn\n",
    "from torch.utils.data import Dataset, DataLoader\n",
    "from torchvision.transforms import Lambda\n",
    "\n",
    "import pickle\n",
    "\n",
    "from utils.network_analysis import *\n",
    "from utils.neural_embedding import *"
   ]
  },
  {
   "cell_type": "code",
   "execution_count": 2,
   "id": "8da5bcb9",
   "metadata": {
    "execution": {
     "iopub.execute_input": "2024-09-04T19:56:58.380059Z",
     "iopub.status.busy": "2024-09-04T19:56:58.379816Z",
     "iopub.status.idle": "2024-09-04T19:56:58.381515Z",
     "shell.execute_reply": "2024-09-04T19:56:58.381311Z"
    },
    "papermill": {
     "duration": 0.004512,
     "end_time": "2024-09-04T19:56:58.382262",
     "exception": false,
     "start_time": "2024-09-04T19:56:58.377750",
     "status": "completed"
    },
    "tags": [
     "parameters"
    ]
   },
   "outputs": [],
   "source": [
    "# Set thresholds for kout and kin\n",
    "congressperson_kout=1\n",
    "followee_kin=1\n",
    "network = 'combined'\n",
    "embedding_dimension = 10"
   ]
  },
  {
   "cell_type": "code",
   "execution_count": 3,
   "id": "e8088b7c",
   "metadata": {
    "execution": {
     "iopub.execute_input": "2024-09-04T19:56:58.385398Z",
     "iopub.status.busy": "2024-09-04T19:56:58.385314Z",
     "iopub.status.idle": "2024-09-04T19:56:58.386934Z",
     "shell.execute_reply": "2024-09-04T19:56:58.386739Z"
    },
    "papermill": {
     "duration": 0.003953,
     "end_time": "2024-09-04T19:56:58.387611",
     "exception": false,
     "start_time": "2024-09-04T19:56:58.383658",
     "status": "completed"
    },
    "tags": [
     "injected-parameters"
    ]
   },
   "outputs": [],
   "source": [
    "# Parameters\n",
    "congressperson_kout = 1\n",
    "followee_kin = 10\n",
    "network = \"senate\"\n",
    "embedding_dimension = 5\n"
   ]
  },
  {
   "cell_type": "markdown",
   "id": "d97aa403",
   "metadata": {
    "papermill": {
     "duration": 0.001367,
     "end_time": "2024-09-04T19:56:58.390353",
     "exception": false,
     "start_time": "2024-09-04T19:56:58.388986",
     "status": "completed"
    },
    "tags": []
   },
   "source": [
    "## **1. Process training data**"
   ]
  },
  {
   "cell_type": "markdown",
   "id": "1e77edc1",
   "metadata": {
    "papermill": {
     "duration": 0.001454,
     "end_time": "2024-09-04T19:56:58.393295",
     "exception": false,
     "start_time": "2024-09-04T19:56:58.391841",
     "status": "completed"
    },
    "tags": []
   },
   "source": [
    "#### **1.1 Read and process edgelist CSVs**"
   ]
  },
  {
   "cell_type": "code",
   "execution_count": 4,
   "id": "9d44c05a",
   "metadata": {
    "execution": {
     "iopub.execute_input": "2024-09-04T19:56:58.396908Z",
     "iopub.status.busy": "2024-09-04T19:56:58.396798Z",
     "iopub.status.idle": "2024-09-04T19:56:58.403159Z",
     "shell.execute_reply": "2024-09-04T19:56:58.402903Z"
    },
    "papermill": {
     "duration": 0.009009,
     "end_time": "2024-09-04T19:56:58.403924",
     "exception": false,
     "start_time": "2024-09-04T19:56:58.394915",
     "status": "completed"
    },
    "tags": []
   },
   "outputs": [
    {
     "name": "stdout",
     "output_type": "stream",
     "text": [
      "8105 samples\n",
      "55 features and 478 labels\n"
     ]
    }
   ],
   "source": [
    "filepath=  f\"data/processed/edgelists/{network}_edgelist_kout{congressperson_kout}_kin{followee_kin}.csv\"\n",
    "samples, feature_index_map, label_index_map = trainingDataRead(filepath)"
   ]
  },
  {
   "cell_type": "markdown",
   "id": "744b28a7",
   "metadata": {
    "papermill": {
     "duration": 0.00139,
     "end_time": "2024-09-04T19:56:58.406947",
     "exception": false,
     "start_time": "2024-09-04T19:56:58.405557",
     "status": "completed"
    },
    "tags": []
   },
   "source": [
    "#### **1.2 Load training data into Dataset class**"
   ]
  },
  {
   "cell_type": "code",
   "execution_count": 5,
   "id": "f6c712b8",
   "metadata": {
    "execution": {
     "iopub.execute_input": "2024-09-04T19:56:58.410453Z",
     "iopub.status.busy": "2024-09-04T19:56:58.410353Z",
     "iopub.status.idle": "2024-09-04T19:56:58.412634Z",
     "shell.execute_reply": "2024-09-04T19:56:58.412425Z"
    },
    "papermill": {
     "duration": 0.00481,
     "end_time": "2024-09-04T19:56:58.413295",
     "exception": false,
     "start_time": "2024-09-04T19:56:58.408485",
     "status": "completed"
    },
    "tags": []
   },
   "outputs": [],
   "source": [
    "#----- DEFINE TRANSFORMS FOR USER -> ONE-HOT ENCODING VECTORS -----#\n",
    "\n",
    "# Define the transform (one-hot encoding) for the input data\n",
    "transform = Lambda(lambda y: torch.zeros(len(feature_index_map), dtype=torch.float).scatter_(\n",
    "    0, torch.tensor(feature_index_map[y]), value=1))\n",
    "\n",
    "# Define the target_transform (one-hot encoding) for the output labels\n",
    "target_transform = Lambda(lambda y: torch.zeros(len(label_index_map), dtype=torch.float).scatter_(\n",
    "    0, torch.tensor(label_index_map[y]), value=1))\n",
    "\n",
    "\n",
    "# Load in training data\n",
    "dataset= FollowingDataset(data = samples, transform=transform ,target_transform=target_transform)\n",
    "dataloader = DataLoader(dataset, batch_size=128, shuffle=True)"
   ]
  },
  {
   "cell_type": "markdown",
   "id": "a7ae169e",
   "metadata": {
    "papermill": {
     "duration": 0.001348,
     "end_time": "2024-09-04T19:56:58.416077",
     "exception": false,
     "start_time": "2024-09-04T19:56:58.414729",
     "status": "completed"
    },
    "tags": []
   },
   "source": [
    "#### **1.3 Define function to retrieve text label from one-hot encoding**"
   ]
  },
  {
   "cell_type": "code",
   "execution_count": 6,
   "id": "8838c923",
   "metadata": {
    "execution": {
     "iopub.execute_input": "2024-09-04T19:56:58.419245Z",
     "iopub.status.busy": "2024-09-04T19:56:58.419153Z",
     "iopub.status.idle": "2024-09-04T19:56:58.421058Z",
     "shell.execute_reply": "2024-09-04T19:56:58.420865Z"
    },
    "papermill": {
     "duration": 0.004351,
     "end_time": "2024-09-04T19:56:58.421788",
     "exception": false,
     "start_time": "2024-09-04T19:56:58.417437",
     "status": "completed"
    },
    "tags": []
   },
   "outputs": [],
   "source": [
    "def one_hot_to_label(one_hot_vector, label_to_index):\n",
    "    \"\"\"Get twitter username from a given one-hot encoding\n",
    "    Args:\n",
    "        - one_hot_vector (torch.Tensor) : one-hot encoded tensor representing user\n",
    "        - label_to_index (dict) : dictionary of structure {username : int} representing username -> integer mapping used in data preprocessing\n",
    "    Returns:\n",
    "        - user (str) : username of user represented by the one-hot vector\n",
    "    \"\"\"\n",
    "    index = torch.argmax(one_hot_vector).item()\n",
    "    index_to_label = {idx: label for label, idx in label_to_index.items()}\n",
    "    user = index_to_label[index]\n",
    "    return user"
   ]
  },
  {
   "cell_type": "markdown",
   "id": "26e9d432",
   "metadata": {
    "papermill": {
     "duration": 0.001318,
     "end_time": "2024-09-04T19:56:58.424492",
     "exception": false,
     "start_time": "2024-09-04T19:56:58.423174",
     "status": "completed"
    },
    "tags": []
   },
   "source": [
    "## **2. Network training**"
   ]
  },
  {
   "cell_type": "markdown",
   "id": "57a81cae",
   "metadata": {
    "papermill": {
     "duration": 0.001303,
     "end_time": "2024-09-04T19:56:58.427127",
     "exception": false,
     "start_time": "2024-09-04T19:56:58.425824",
     "status": "completed"
    },
    "tags": []
   },
   "source": [
    "#### **2.1 Get Device for Training**"
   ]
  },
  {
   "cell_type": "code",
   "execution_count": 7,
   "id": "59e5d55b",
   "metadata": {
    "execution": {
     "iopub.execute_input": "2024-09-04T19:56:58.430268Z",
     "iopub.status.busy": "2024-09-04T19:56:58.430174Z",
     "iopub.status.idle": "2024-09-04T19:56:58.442903Z",
     "shell.execute_reply": "2024-09-04T19:56:58.442703Z"
    },
    "papermill": {
     "duration": 0.015161,
     "end_time": "2024-09-04T19:56:58.443587",
     "exception": false,
     "start_time": "2024-09-04T19:56:58.428426",
     "status": "completed"
    },
    "tags": []
   },
   "outputs": [
    {
     "name": "stdout",
     "output_type": "stream",
     "text": [
      "Using mps device\n"
     ]
    }
   ],
   "source": [
    "device = (\"cuda\" if torch.cuda.is_available() else \"mps\" if torch.backends.mps.is_available() else \"cpu\")\n",
    "print(f\"Using {device} device\")"
   ]
  },
  {
   "cell_type": "markdown",
   "id": "0b25217c",
   "metadata": {
    "papermill": {
     "duration": 0.001379,
     "end_time": "2024-09-04T19:56:58.446475",
     "exception": false,
     "start_time": "2024-09-04T19:56:58.445096",
     "status": "completed"
    },
    "tags": []
   },
   "source": [
    "#### **2.2 Define the Class for the Neural Network**"
   ]
  },
  {
   "cell_type": "code",
   "execution_count": 8,
   "id": "edc27612",
   "metadata": {
    "execution": {
     "iopub.execute_input": "2024-09-04T19:56:58.449636Z",
     "iopub.status.busy": "2024-09-04T19:56:58.449544Z",
     "iopub.status.idle": "2024-09-04T19:56:58.451641Z",
     "shell.execute_reply": "2024-09-04T19:56:58.451435Z"
    },
    "papermill": {
     "duration": 0.004555,
     "end_time": "2024-09-04T19:56:58.452355",
     "exception": false,
     "start_time": "2024-09-04T19:56:58.447800",
     "status": "completed"
    },
    "tags": []
   },
   "outputs": [],
   "source": [
    "# Custom network class. Consists of an input layer of d dimensions, a hidden layer of n dimensions, and an output layer of m dimension. Can specify if bias parameter is used in layers.\n",
    "\n",
    "class FollowingNetwork(nn.Module):\n",
    "    def __init__(self, d=108, n=20,m=115306, bias=False):\n",
    "        super().__init__()\n",
    "        self.linear_stack = nn.Sequential(\n",
    "            nn.Linear(d, n, bias=bias), # Linear embedding layer with n=20 nodes\n",
    "            nn.Linear(n,m, bias=bias), # Final output linear layer, with m=115,306 nodes \n",
    "        )\n",
    "\n",
    "    def forward(self, x):\n",
    "        logits = self.linear_stack(x) # pass data x through layers defined in nn.Sequential. Return raw logits\n",
    "        return logits"
   ]
  },
  {
   "cell_type": "markdown",
   "id": "e47d8136",
   "metadata": {
    "papermill": {
     "duration": 0.001327,
     "end_time": "2024-09-04T19:56:58.454991",
     "exception": false,
     "start_time": "2024-09-04T19:56:58.453664",
     "status": "completed"
    },
    "tags": []
   },
   "source": [
    "#### **2.3 Define hyperparameters and overheads**"
   ]
  },
  {
   "cell_type": "code",
   "execution_count": 9,
   "id": "eb000f90",
   "metadata": {
    "execution": {
     "iopub.execute_input": "2024-09-04T19:56:58.458209Z",
     "iopub.status.busy": "2024-09-04T19:56:58.458117Z",
     "iopub.status.idle": "2024-09-04T19:56:58.462812Z",
     "shell.execute_reply": "2024-09-04T19:56:58.462605Z"
    },
    "papermill": {
     "duration": 0.007089,
     "end_time": "2024-09-04T19:56:58.463528",
     "exception": false,
     "start_time": "2024-09-04T19:56:58.456439",
     "status": "completed"
    },
    "tags": []
   },
   "outputs": [
    {
     "name": "stdout",
     "output_type": "stream",
     "text": [
      "FollowingNetwork(\n",
      "  (linear_stack): Sequential(\n",
      "    (0): Linear(in_features=55, out_features=5, bias=False)\n",
      "    (1): Linear(in_features=5, out_features=478, bias=False)\n",
      "  )\n",
      ")\n"
     ]
    }
   ],
   "source": [
    "# Create instance of FoolowingNetwork and move to device\n",
    "d = len(feature_index_map) \n",
    "m = len(label_index_map)\n",
    "n = embedding_dimension # Embedding dimension\n",
    "\n",
    "model = FollowingNetwork(d=d, n=n, m=m, bias=False).to(device)\n",
    "print(model)\n",
    "\n",
    "# Set hyperparameters\n",
    "epochs = 15\n",
    "batch_size = 128\n",
    "learning_rate = 0.001\n",
    "\n",
    "# Initialise the loss function\n",
    "loss_fn = nn.CrossEntropyLoss()\n",
    "\n",
    "# Initialise optimiser\n",
    "optimizer = torch.optim.Adam(model.parameters(), lr=learning_rate)"
   ]
  },
  {
   "cell_type": "markdown",
   "id": "b9f72e98",
   "metadata": {
    "papermill": {
     "duration": 0.001353,
     "end_time": "2024-09-04T19:56:58.466365",
     "exception": false,
     "start_time": "2024-09-04T19:56:58.465012",
     "status": "completed"
    },
    "tags": []
   },
   "source": [
    "#### **2.4 Perform training**"
   ]
  },
  {
   "cell_type": "code",
   "execution_count": 10,
   "id": "d3e5f695",
   "metadata": {
    "execution": {
     "iopub.execute_input": "2024-09-04T19:56:58.469601Z",
     "iopub.status.busy": "2024-09-04T19:56:58.469508Z",
     "iopub.status.idle": "2024-09-04T19:57:01.420343Z",
     "shell.execute_reply": "2024-09-04T19:57:01.420093Z"
    },
    "papermill": {
     "duration": 2.95338,
     "end_time": "2024-09-04T19:57:01.421116",
     "exception": false,
     "start_time": "2024-09-04T19:56:58.467736",
     "status": "completed"
    },
    "tags": []
   },
   "outputs": [
    {
     "name": "stdout",
     "output_type": "stream",
     "text": [
      "Epoch 1\n",
      "-------------------------------\n",
      "loss: 6.168937  [  128/ 8105]\n"
     ]
    },
    {
     "name": "stdout",
     "output_type": "stream",
     "text": [
      "Epoch 2\n",
      "-------------------------------\n",
      "loss: 6.166113  [  128/ 8105]\n",
      "Epoch 3\n",
      "-------------------------------\n"
     ]
    },
    {
     "name": "stdout",
     "output_type": "stream",
     "text": [
      "loss: 6.170964  [  128/ 8105]\n",
      "Epoch 4\n",
      "-------------------------------\n",
      "loss: 6.170160  [  128/ 8105]\n"
     ]
    },
    {
     "name": "stdout",
     "output_type": "stream",
     "text": [
      "Epoch 5\n",
      "-------------------------------\n",
      "loss: 6.168355  [  128/ 8105]\n"
     ]
    },
    {
     "name": "stdout",
     "output_type": "stream",
     "text": [
      "Epoch 6\n",
      "-------------------------------\n",
      "loss: 6.167546  [  128/ 8105]\n",
      "Epoch 7\n",
      "-------------------------------\n",
      "loss: 6.162511  [  128/ 8105]\n"
     ]
    },
    {
     "name": "stdout",
     "output_type": "stream",
     "text": [
      "Epoch 8\n",
      "-------------------------------\n",
      "loss: 6.162839  [  128/ 8105]\n",
      "Epoch 9\n",
      "-------------------------------\n",
      "loss: 6.162128  [  128/ 8105]\n"
     ]
    },
    {
     "name": "stdout",
     "output_type": "stream",
     "text": [
      "Epoch 10\n",
      "-------------------------------\n",
      "loss: 6.157894  [  128/ 8105]\n",
      "Epoch 11\n",
      "-------------------------------\n",
      "loss: 6.166934  [  128/ 8105]\n"
     ]
    },
    {
     "name": "stdout",
     "output_type": "stream",
     "text": [
      "Epoch 12\n",
      "-------------------------------\n",
      "loss: 6.151976  [  128/ 8105]\n",
      "Epoch 13\n",
      "-------------------------------\n",
      "loss: 6.157241  [  128/ 8105]\n"
     ]
    },
    {
     "name": "stdout",
     "output_type": "stream",
     "text": [
      "Epoch 14\n",
      "-------------------------------\n",
      "loss: 6.145837  [  128/ 8105]\n",
      "Epoch 15\n",
      "-------------------------------\n",
      "loss: 6.147320  [  128/ 8105]\n"
     ]
    },
    {
     "name": "stdout",
     "output_type": "stream",
     "text": [
      "Done!\n"
     ]
    },
    {
     "data": {
      "image/png": "[encoded data removed]",
      "text/plain": [
       "<Figure size 1000x500 with 1 Axes>"
      ]
     },
     "metadata": {},
     "output_type": "display_data"
    }
   ],
   "source": [
    "# Train over epochs\n",
    "losses = []\n",
    "for t in range(epochs):\n",
    "    print(f\"Epoch {t+1}\\n-------------------------------\")\n",
    "    epoch_losses = train_loop(dataloader, model, loss_fn, optimizer, device, batch_size)\n",
    "    losses += epoch_losses\n",
    "print(\"Done!\")\n",
    "\n",
    "#chamber = filepath.split('_edgelist')[0].split('processed/')[-1]\n",
    "model_name = f'model_{network}_{filepath.split('edgelist_')[-1].split('.csv')[0]}_{n}.pth'\n",
    "# Save trained model\n",
    "torch.save(model, 'models/' + model_name)\n",
    "\n",
    "def plotLosses(losses):\n",
    "    with plt.style.context(\"ggplot\"):\n",
    "        plt.figure(figsize=(10,5))\n",
    "        plt.plot(range(0,len(losses)), losses)\n",
    "        plt.xlabel('Batch iteration (100s)')\n",
    "        plt.ylabel('Loss')\n",
    "        plt.show()\n",
    "\n",
    "plotLosses(losses=losses)"
   ]
  },
  {
   "cell_type": "markdown",
   "id": "be771abc",
   "metadata": {
    "papermill": {
     "duration": 0.00221,
     "end_time": "2024-09-04T19:57:01.425682",
     "exception": false,
     "start_time": "2024-09-04T19:57:01.423472",
     "status": "completed"
    },
    "tags": []
   },
   "source": [
    "## **3. Get embeddings from model**"
   ]
  },
  {
   "cell_type": "code",
   "execution_count": 11,
   "id": "1d6073d6",
   "metadata": {
    "execution": {
     "iopub.execute_input": "2024-09-04T19:57:01.430235Z",
     "iopub.status.busy": "2024-09-04T19:57:01.430118Z",
     "iopub.status.idle": "2024-09-04T19:57:01.450096Z",
     "shell.execute_reply": "2024-09-04T19:57:01.449809Z"
    },
    "papermill": {
     "duration": 0.023342,
     "end_time": "2024-09-04T19:57:01.450915",
     "exception": false,
     "start_time": "2024-09-04T19:57:01.427573",
     "status": "completed"
    },
    "tags": []
   },
   "outputs": [
    {
     "name": "stderr",
     "output_type": "stream",
     "text": [
      "/var/folders/tg/yjf26c0j7r30zkzr43n_9hbc0000gn/T/ipykernel_20853/941759662.py:2: FutureWarning: You are using `torch.load` with `weights_only=False` (the current default value), which uses the default pickle module implicitly. It is possible to construct malicious pickle data which will execute arbitrary code during unpickling (See https://github.com/pytorch/pytorch/blob/main/SECURITY.md#untrusted-models for more details). In a future release, the default value for `weights_only` will be flipped to `True`. This limits the functions that could be executed during unpickling. Arbitrary objects will no longer be allowed to be loaded via this mode unless they are explicitly allowlisted by the user via `torch.serialization.add_safe_globals`. We recommend you start setting `weights_only=True` for any use case where you don't have full control of the loaded file. Please open an issue on GitHub for any issues related to this experimental feature.\n",
      "  model = torch.load('models/' + model_name)\n"
     ]
    }
   ],
   "source": [
    "# Load model and get first layer weights\n",
    "model = torch.load('models/' + model_name)\n",
    "first_layer_weights = model.linear_stack[0].weight.data.T\n",
    "\n",
    "# Pair embedding vectors with text usernames\n",
    "embeddings = [i.cpu().numpy() for i in first_layer_weights]\n",
    "embeddings_dct = dict(zip(list(feature_index_map.keys()),embeddings))\n",
    "\n",
    "embeddings_name = model_name.replace('model_', 'embedding_').replace('.pth', '.pkl')\n",
    "# Pickle/save embedding dictionary\n",
    "with open(\"data/processed/embeddings/\" + embeddings_name, \"wb\") as f: # \"wb\" because we want to write in binary mode\n",
    "    pickle.dump(embeddings_dct, f)"
   ]
  }
 ],
 "metadata": {
  "kernelspec": {
   "display_name": "Python 3",
   "language": "python",
   "name": "python3"
  },
  "language_info": {
   "codemirror_mode": {
    "name": "ipython",
    "version": 3
   },
   "file_extension": ".py",
   "mimetype": "text/x-python",
   "name": "python",
   "nbconvert_exporter": "python",
   "pygments_lexer": "ipython3",
   "version": "3.12.0"
  },
  "papermill": {
   "default_parameters": {},
   "duration": 5.368363,
   "end_time": "2024-09-04T19:57:01.876897",
   "environment_variables": {},
   "exception": null,
   "input_path": "4-m-embedding-neural-network.ipynb",
   "output_path": "4-m-embedding-neural-network.ipynb",
   "parameters": {
    "congressperson_kout": 1,
    "embedding_dimension": 5,
    "followee_kin": 10,
    "network": "senate"
   },
   "start_time": "2024-09-04T19:56:56.508534",
   "version": "2.6.0"
  }
 },
 "nbformat": 4,
 "nbformat_minor": 5
}