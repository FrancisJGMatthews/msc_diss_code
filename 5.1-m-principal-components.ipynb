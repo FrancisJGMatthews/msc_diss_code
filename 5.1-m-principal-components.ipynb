{
 "cells": [
  {
   "cell_type": "code",
   "execution_count": 11,
   "metadata": {},
   "outputs": [],
   "source": [
    "import pandas as pd\n",
    "import os \n",
    "import matplotlib.pyplot as plt\n",
    "import matplotlib.patches as mpatches\n",
    "import numpy as np \n",
    "from sklearn.cluster import KMeans\n",
    "from scipy import stats\n",
    "\n",
    "import pickle\n",
    "\n",
    "from sklearn.preprocessing import StandardScaler\n",
    "from sklearn.decomposition import PCA\n",
    "\n",
    "from utils.network_analysis import *\n",
    "from utils.neural_embedding import *"
   ]
  },
  {
   "cell_type": "markdown",
   "metadata": {},
   "source": [
    "## **1. Read embeddings vectors**\n",
    "\n",
    "The output of the neural embedding process will be a dictionary object of structure {'username' : np.array} where np.array is an $n$-dimensional vector representing the embedding (in $n$-dimensional embedding space)"
   ]
  },
  {
   "cell_type": "code",
   "execution_count": 12,
   "metadata": {},
   "outputs": [],
   "source": [
    "embeddings_path = 'data/processed/embedding_senate_kout1_kin2_20.pkl'\n",
    "\n",
    "with open(embeddings_path, \"rb\") as input_file:\n",
    "   embeddings_dct = pickle.load(input_file)"
   ]
  },
  {
   "cell_type": "markdown",
   "metadata": {},
   "source": [
    "## **2. Compute and plot Principal Components vectors**"
   ]
  },
  {
   "cell_type": "markdown",
   "metadata": {},
   "source": [
    "#### 2.1 Compute Principal Components"
   ]
  },
  {
   "cell_type": "code",
   "execution_count": 3,
   "metadata": {},
   "outputs": [],
   "source": [
    "def computePCA(embedding_dict, n=2):\n",
    "    \"\"\"Compute n Principal components of sample data. \n",
    "    \n",
    "    Args:\n",
    "        - embedding_dct (dict) : Dictionary of sample names and feature vector, of structure {'name' : np.array}\n",
    "        - n (int) : Number of Principal components to calculate\n",
    "\n",
    "    Returns:\n",
    "        - pca_dict (dct) : Dictionary of sample names and feature vector of principcal components, of structure {'name' : np.array}. Dim of np.array = n\n",
    "    \"\"\"\n",
    "    # Extract names and vectors\n",
    "    names = list(embedding_dict.keys())\n",
    "    vectors = np.array(list(embedding_dict.values()))\n",
    "\n",
    "    # Perform PCA\n",
    "    pca = PCA(n_components=n)\n",
    "    reduced_vectors = pca.fit_transform(vectors)\n",
    "\n",
    "    # Create a new dictionary with the reduced vectors\n",
    "    pca_dict = {name: reduced_vectors[i] for i, name in enumerate(names)}\n",
    "\n",
    "    return pca_dict"
   ]
  },
  {
   "cell_type": "markdown",
   "metadata": {},
   "source": [
    "#### 2.2 Plot Principal Components"
   ]
  },
  {
   "cell_type": "code",
   "execution_count": 4,
   "metadata": {},
   "outputs": [],
   "source": [
    "def plotPCA(pca_dict, democrats, republicans):\n",
    "    \"\"\"Plot up to 2 principcal components of PCA vectors (or 1 if only 1 available)\n",
    "    \n",
    "    Args:\n",
    "        - pca_dct (dict) : Dictionary of sample names and feature vector of principcal components, of structure {'name' : np.array}\n",
    "\n",
    "    Returns:\n",
    "        - pca_dct_reduced (dict) : pca_dct reduce to <=2 principcal components (the vector being plotted). Returns pca_dct if <=2 already.\n",
    "    \"\"\"\n",
    "\n",
    "    # If more than 2 components, reduce to 2 components for plotting\n",
    "    n_components = len(list(pca_dict.values())[0])\n",
    "    pca_dict_reduced = pca_dict.copy()\n",
    "    if n_components > 2:\n",
    "        print(f'Reducing {n_components} principal components to 2')\n",
    "        for i in pca_dict_reduced:\n",
    "            pca_dict_reduced[i] = pca_dict_reduced[i][:2]\n",
    "\n",
    "\n",
    "    democrats_dict = {}\n",
    "    republicans_dict = {}\n",
    "\n",
    "    for congressperson in pca_dict:\n",
    "        if congressperson in democrats:\n",
    "            democrats_dict[congressperson] = pca_dict[congressperson]\n",
    "        elif congressperson in republicans:\n",
    "            republicans_dict[congressperson] = pca_dict[congressperson]\n",
    "\n",
    "    with plt.style.context(\"ggplot\"):\n",
    "        # Plotting the 2D vectors\n",
    "        plt.figure(figsize=(7, 5))\n",
    "\n",
    "        if n_components == 1:\n",
    "            for name, vector in democrats_dict.items():\n",
    "                plt.scatter(vector[0], 0, label='democrat', color='navy')\n",
    "            for name, vector in republicans_dict.items():\n",
    "                plt.scatter(vector[0], 0, label='republican', color='red')\n",
    "                #plt.annotate(name, (vector[0], 0))\n",
    "        else:\n",
    "            for name, vector in democrats_dict.items():\n",
    "                plt.scatter(vector[0], vector[1], label='democrat', color='navy')\n",
    "            for name, vector in republicans_dict.items():\n",
    "                plt.scatter(vector[0], vector[1], label='republican', color='red')\n",
    "                #plt.annotate(name, (vector[0], vector[1]))\n",
    "\n",
    "        plt.title('Embeddings: PCA Components 1 and 2', size=10)\n",
    "        plt.xlabel('PC1')\n",
    "        plt.ylabel('PC2')\n",
    "\n",
    "        #plt.legend()\n",
    "        plt.grid(True)\n",
    "        plt.show()\n",
    "\n",
    "    return pca_dict_reduced\n",
    "\n",
    "def computeKMeans(data_dict, k=2):\n",
    "    # Convert the dictionary values to a NumPy array\n",
    "    features = np.array(list(data_dict.values()))\n",
    "\n",
    "    # Initialize and fit the KMeans algorithm\n",
    "    kmeans = KMeans(n_clusters=k)\n",
    "    kmeans.fit(features)\n",
    "\n",
    "    # Get the cluster labels\n",
    "    labels = kmeans.labels_\n",
    "\n",
    "    # If you want to associate labels with the original names:\n",
    "    labeled_data = dict(zip(data_dict.keys(), labels))\n",
    "\n",
    "    # Plotting\n",
    "    with plt.style.context(\"ggplot\"):\n",
    "        plt.figure(figsize=(8, 5))\n",
    "        colors = ['red', 'navy',]  # Extend this list for more clusters\n",
    "\n",
    "        for i in range(k):\n",
    "            # Plot data points that are assigned to each cluster\n",
    "            plt.scatter(features[labels == i, 0], features[labels == i, 1], s=50, c=colors[i], label=f'Cluster {i}')\n",
    "\n",
    "        plt.title('Cluster visualization')\n",
    "        plt.xlabel('PC1')\n",
    "        plt.ylabel('PC2')\n",
    "        plt.legend()\n",
    "        plt.grid(True)\n",
    "        plt.show()\n",
    "\n",
    "    return labeled_data"
   ]
  },
  {
   "cell_type": "code",
   "execution_count": 5,
   "metadata": {},
   "outputs": [],
   "source": [
    "# Read in congressmember to party mapping table\n",
    "filepath = 'data/raw/congressmembers_characteristics.csv'\n",
    "all_congress_members = pd.read_csv(filepath).drop_duplicates('twitter_name')\n",
    "\n",
    "democrats = all_congress_members[all_congress_members['party'] == 'D']\n",
    "republicans = all_congress_members[all_congress_members['party'] == 'R']\n",
    "\n",
    "democrats_congress_members = list(democrats['congressperson'])\n",
    "republicans_congress_members = list(republicans['congressperson'])\n",
    "\n",
    "house_list = list(all_congress_members[all_congress_members['chamber'] == 'House']['congressperson'])\n",
    "senate_list = list(all_congress_members[all_congress_members['chamber'] == 'Senate']['congressperson'])"
   ]
  },
  {
   "cell_type": "code",
   "execution_count": 16,
   "metadata": {},
   "outputs": [],
   "source": [
    "embeddings_dct_house = {key:value for key,value in embeddings_dct.items() if key in house_list}\n",
    "embeddings_dct_senate = {key:value for key,value in embeddings_dct.items() if key in senate_list}"
   ]
  },
  {
   "cell_type": "code",
   "execution_count": 15,
   "metadata": {},
   "outputs": [],
   "source": [
    "# Compute first 2 principal components\n",
    "pca_dict_house = computePCA(embeddings_dct, 2)\n",
    "#pca_dict_senate = computePCA(embeddings_dct_senate, 2)"
   ]
  },
  {
   "cell_type": "code",
   "execution_count": 257,
   "metadata": {},
   "outputs": [],
   "source": [
    "def plotPCA(pca_dict, democrats, republicans, ax):\n",
    "    kin_kout = pca_dict[1]\n",
    "    pca_dict = pca_dict[0]\n",
    "    n_components = len(list(pca_dict.values())[0])\n",
    "    pca_dict_reduced = pca_dict.copy()\n",
    "    if n_components > 2:\n",
    "        print(f'Reducing {n_components} principal components to 2')\n",
    "        for i in pca_dict_reduced:\n",
    "            pca_dict_reduced[i] = pca_dict_reduced[i][:2]\n",
    "\n",
    "    democrats_dict = {}\n",
    "    republicans_dict = {}\n",
    "\n",
    "    for congressperson in pca_dict:\n",
    "        if congressperson in democrats:\n",
    "            democrats_dict[congressperson] = pca_dict[congressperson]\n",
    "        elif congressperson in republicans:\n",
    "            republicans_dict[congressperson] = pca_dict[congressperson]\n",
    "\n",
    "    with plt.style.context(\"ggplot\"):\n",
    "        if n_components == 1:\n",
    "            for name, vector in democrats_dict.items():\n",
    "                ax.scatter(vector[0], 0, label='Democrat', color='navy')\n",
    "            for name, vector in republicans_dict.items():\n",
    "                ax.scatter(vector[0], 0, label='Republican', color='red')\n",
    "        else:\n",
    "            for name, vector in democrats_dict.items():\n",
    "                ax.scatter(vector[0], vector[1], label='Democrat', color='navy')\n",
    "            for name, vector in republicans_dict.items():\n",
    "                ax.scatter(vector[0], vector[1], label='Republican', color='red')\n",
    "\n",
    "        ax.set_title(f'PCA Components 1 and 2 ({kin_kout})', size=10)\n",
    "        ax.set_xlabel('PC1')\n",
    "        ax.set_ylabel('PC2')\n",
    "        #ax.legend()\n",
    "        ax.grid(True)\n",
    "\n",
    "def plotPC1vsDW(pca_dict, democrats, republicans, chamber,ax):\n",
    "    kin_kout = pca_dict[1]\n",
    "    pca_dict = pca_dict[0]\n",
    "    first_pca_df = pd.DataFrame.from_dict(pca_dict, orient='index').reset_index().rename(columns = {'index' : 'congressperson', 0 : 'first_pc'})\n",
    "\n",
    "\n",
    "    democrats = democrats.merge(first_pca_df, on='congressperson', how='left')\n",
    "    republicans = republicans.merge(first_pca_df, on='congressperson', how='left')\n",
    "    democrats = democrats[democrats['chamber'] == chamber].dropna(subset=['first_pc'])\n",
    "    republicans = republicans[republicans['chamber'] == chamber].dropna(subset=['first_pc'])\n",
    "\n",
    "\n",
    "    with plt.style.context(\"ggplot\"):\n",
    "        x1 = democrats['DW-Nominate']\n",
    "        y1 = democrats['first_pc']\n",
    "\n",
    "        x2 = republicans['DW-Nominate']\n",
    "        y2 = republicans['first_pc']\n",
    "        \n",
    "        ax.scatter(x1,y1, label='democrats', color='navy')\n",
    "        ax.scatter(x2, y2, label='republicans', color='red')\n",
    "\n",
    "        ax.set_title(f'PC1 vs. DW-Nominate score({kin_kout})', size=10)\n",
    "        ax.set_xlabel('DW-Nominate')\n",
    "        ax.set_ylabel('PC1')\n",
    "        #ax.legend()\n",
    "        ax.grid(True)"
   ]
  },
  {
   "cell_type": "code",
   "execution_count": 16,
   "metadata": {},
   "outputs": [
    {
     "data": {
      "image/png": "[encoded data removed]",
      "text/plain": [
       "<Figure size 700x500 with 1 Axes>"
      ]
     },
     "metadata": {},
     "output_type": "display_data"
    }
   ],
   "source": [
    "rd = plotPCA(pca_dict_house,democrats_congress_members , republicans_congress_members)"
   ]
  },
  {
   "cell_type": "code",
   "execution_count": 20,
   "metadata": {},
   "outputs": [
    {
     "data": {
      "image/png": "[encoded data removed]",
      "text/plain": [
       "<Figure size 700x500 with 1 Axes>"
      ]
     },
     "metadata": {},
     "output_type": "display_data"
    }
   ],
   "source": [
    "rd = plotPCA(pca_dict_senate,democrats_congress_members , republicans_congress_members)"
   ]
  },
  {
   "cell_type": "markdown",
   "metadata": {},
   "source": [
    "## **3. Compare first principcal component to DW-Nominate score**"
   ]
  },
  {
   "cell_type": "code",
   "execution_count": 17,
   "metadata": {},
   "outputs": [],
   "source": [
    "first_pca = computePCA(embeddings_dct, 1)\n",
    "first_pca_df = pd.DataFrame.from_dict(first_pca, orient='index').reset_index().rename(columns = {'index' : 'congressperson', 0 : 'first_pc'})"
   ]
  },
  {
   "cell_type": "code",
   "execution_count": 18,
   "metadata": {},
   "outputs": [],
   "source": [
    "democrats_house = democrats.merge(first_pca_df, on='congressperson', how='left')\n",
    "republicans_house = republicans.merge(first_pca_df, on='congressperson', how='left')\n",
    "\n",
    "democrats_house = democrats_house[democrats_house['chamber'] == 'House'].dropna(subset=['first_pc'])\n",
    "republicans_house = republicans_house[republicans_house['chamber'] == 'House'].dropna(subset=['first_pc'])"
   ]
  },
  {
   "cell_type": "code",
   "execution_count": 19,
   "metadata": {},
   "outputs": [
    {
     "ename": "ValueError",
     "evalue": "x and y must have length at least 2.",
     "output_type": "error",
     "traceback": [
      "\u001b[0;31m---------------------------------------------------------------------------\u001b[0m",
      "\u001b[0;31mValueError\u001b[0m                                Traceback (most recent call last)",
      "\u001b[0;32m/var/folders/tg/yjf26c0j7r30zkzr43n_9hbc0000gn/T/ipykernel_17458/3096307741.py\u001b[0m in \u001b[0;36m?\u001b[0;34m()\u001b[0m\n\u001b[1;32m      8\u001b[0m     \u001b[0my1\u001b[0m \u001b[0;34m=\u001b[0m \u001b[0mdemocrats_house\u001b[0m\u001b[0;34m.\u001b[0m\u001b[0mdropna\u001b[0m\u001b[0;34m(\u001b[0m\u001b[0msubset\u001b[0m\u001b[0;34m=\u001b[0m\u001b[0;34m[\u001b[0m\u001b[0;34m'dw.nom.1'\u001b[0m\u001b[0;34m]\u001b[0m\u001b[0;34m)\u001b[0m\u001b[0;34m[\u001b[0m\u001b[0;34m'first_pc'\u001b[0m\u001b[0;34m]\u001b[0m\u001b[0;34m\u001b[0m\u001b[0;34m\u001b[0m\u001b[0m\n\u001b[1;32m      9\u001b[0m     \u001b[0mnancy\u001b[0m \u001b[0;34m=\u001b[0m \u001b[0mdemocrats_house\u001b[0m\u001b[0;34m[\u001b[0m\u001b[0mdemocrats_house\u001b[0m\u001b[0;34m[\u001b[0m\u001b[0;34m'congressperson'\u001b[0m\u001b[0;34m]\u001b[0m \u001b[0;34m==\u001b[0m \u001b[0;34m'speakerpelosi'\u001b[0m\u001b[0;34m]\u001b[0m\u001b[0;34m\u001b[0m\u001b[0;34m\u001b[0m\u001b[0m\n\u001b[1;32m     10\u001b[0m     \u001b[0mnancy_x\u001b[0m \u001b[0;34m=\u001b[0m \u001b[0mnancy\u001b[0m\u001b[0;34m[\u001b[0m\u001b[0;34m'dw.nom.1'\u001b[0m\u001b[0;34m]\u001b[0m\u001b[0;34m\u001b[0m\u001b[0;34m\u001b[0m\u001b[0m\n\u001b[1;32m     11\u001b[0m     \u001b[0mnancy_y\u001b[0m \u001b[0;34m=\u001b[0m \u001b[0mnancy\u001b[0m\u001b[0;34m[\u001b[0m\u001b[0;34m'first_pc'\u001b[0m\u001b[0;34m]\u001b[0m\u001b[0;34m\u001b[0m\u001b[0;34m\u001b[0m\u001b[0m\n\u001b[0;32m---> 12\u001b[0;31m     \u001b[0mdemocrat_corr\u001b[0m \u001b[0;34m=\u001b[0m \u001b[0mnp\u001b[0m\u001b[0;34m.\u001b[0m\u001b[0mround\u001b[0m\u001b[0;34m(\u001b[0m\u001b[0mstats\u001b[0m\u001b[0;34m.\u001b[0m\u001b[0mpearsonr\u001b[0m\u001b[0;34m(\u001b[0m\u001b[0mx1\u001b[0m\u001b[0;34m,\u001b[0m\u001b[0my1\u001b[0m\u001b[0;34m)\u001b[0m\u001b[0;34m.\u001b[0m\u001b[0mstatistic\u001b[0m\u001b[0;34m,\u001b[0m\u001b[0;36m2\u001b[0m\u001b[0;34m)\u001b[0m\u001b[0;34m\u001b[0m\u001b[0;34m\u001b[0m\u001b[0m\n\u001b[0m\u001b[1;32m     13\u001b[0m \u001b[0;34m\u001b[0m\u001b[0m\n\u001b[1;32m     14\u001b[0m     \u001b[0mx2\u001b[0m \u001b[0;34m=\u001b[0m \u001b[0mrepublicans_house\u001b[0m\u001b[0;34m.\u001b[0m\u001b[0mdropna\u001b[0m\u001b[0;34m(\u001b[0m\u001b[0msubset\u001b[0m\u001b[0;34m=\u001b[0m\u001b[0;34m[\u001b[0m\u001b[0;34m'dw.nom.1'\u001b[0m\u001b[0;34m]\u001b[0m\u001b[0;34m)\u001b[0m\u001b[0;34m[\u001b[0m\u001b[0;34m'dw.nom.1'\u001b[0m\u001b[0;34m]\u001b[0m\u001b[0;34m\u001b[0m\u001b[0;34m\u001b[0m\u001b[0m\n\u001b[1;32m     15\u001b[0m     \u001b[0my2\u001b[0m \u001b[0;34m=\u001b[0m \u001b[0mrepublicans_house\u001b[0m\u001b[0;34m.\u001b[0m\u001b[0mdropna\u001b[0m\u001b[0;34m(\u001b[0m\u001b[0msubset\u001b[0m\u001b[0;34m=\u001b[0m\u001b[0;34m[\u001b[0m\u001b[0;34m'dw.nom.1'\u001b[0m\u001b[0;34m]\u001b[0m\u001b[0;34m)\u001b[0m\u001b[0;34m[\u001b[0m\u001b[0;34m'first_pc'\u001b[0m\u001b[0;34m]\u001b[0m\u001b[0;34m\u001b[0m\u001b[0;34m\u001b[0m\u001b[0m\n",
      "\u001b[0;32m/Library/Frameworks/Python.framework/Versions/3.12/lib/python3.12/site-packages/scipy/stats/_stats_py.py\u001b[0m in \u001b[0;36m?\u001b[0;34m(x, y, alternative, method)\u001b[0m\n\u001b[1;32m   4764\u001b[0m     \u001b[0;32mif\u001b[0m \u001b[0mn\u001b[0m \u001b[0;34m!=\u001b[0m \u001b[0mlen\u001b[0m\u001b[0;34m(\u001b[0m\u001b[0my\u001b[0m\u001b[0;34m)\u001b[0m\u001b[0;34m:\u001b[0m\u001b[0;34m\u001b[0m\u001b[0;34m\u001b[0m\u001b[0m\n\u001b[1;32m   4765\u001b[0m         \u001b[0;32mraise\u001b[0m \u001b[0mValueError\u001b[0m\u001b[0;34m(\u001b[0m\u001b[0;34m'x and y must have the same length.'\u001b[0m\u001b[0;34m)\u001b[0m\u001b[0;34m\u001b[0m\u001b[0;34m\u001b[0m\u001b[0m\n\u001b[1;32m   4766\u001b[0m \u001b[0;34m\u001b[0m\u001b[0m\n\u001b[1;32m   4767\u001b[0m     \u001b[0;32mif\u001b[0m \u001b[0mn\u001b[0m \u001b[0;34m<\u001b[0m \u001b[0;36m2\u001b[0m\u001b[0;34m:\u001b[0m\u001b[0;34m\u001b[0m\u001b[0;34m\u001b[0m\u001b[0m\n\u001b[0;32m-> 4768\u001b[0;31m         \u001b[0;32mraise\u001b[0m \u001b[0mValueError\u001b[0m\u001b[0;34m(\u001b[0m\u001b[0;34m'x and y must have length at least 2.'\u001b[0m\u001b[0;34m)\u001b[0m\u001b[0;34m\u001b[0m\u001b[0;34m\u001b[0m\u001b[0m\n\u001b[0m\u001b[1;32m   4769\u001b[0m \u001b[0;34m\u001b[0m\u001b[0m\n\u001b[1;32m   4770\u001b[0m     \u001b[0mx\u001b[0m \u001b[0;34m=\u001b[0m \u001b[0mnp\u001b[0m\u001b[0;34m.\u001b[0m\u001b[0masarray\u001b[0m\u001b[0;34m(\u001b[0m\u001b[0mx\u001b[0m\u001b[0;34m)\u001b[0m\u001b[0;34m\u001b[0m\u001b[0;34m\u001b[0m\u001b[0m\n\u001b[1;32m   4771\u001b[0m     \u001b[0my\u001b[0m \u001b[0;34m=\u001b[0m \u001b[0mnp\u001b[0m\u001b[0;34m.\u001b[0m\u001b[0masarray\u001b[0m\u001b[0;34m(\u001b[0m\u001b[0my\u001b[0m\u001b[0;34m)\u001b[0m\u001b[0;34m\u001b[0m\u001b[0;34m\u001b[0m\u001b[0m\n",
      "\u001b[0;31mValueError\u001b[0m: x and y must have length at least 2."
     ]
    }
   ],
   "source": [
    "with plt.style.context(\"ggplot\"):\n",
    "\n",
    "\n",
    "\n",
    "    plt.figure(figsize=(11,7))\n",
    "\n",
    "    x1 = democrats_house.dropna(subset=['dw.nom.1'])['dw.nom.1']\n",
    "    y1 = democrats_house.dropna(subset=['dw.nom.1'])['first_pc']\n",
    "    nancy = democrats_house[democrats_house['congressperson'] == 'speakerpelosi']\n",
    "    nancy_x = nancy['dw.nom.1']\n",
    "    nancy_y = nancy['first_pc']\n",
    "    democrat_corr = np.round(stats.pearsonr(x1,y1).statistic,2)\n",
    "\n",
    "    x2 = republicans_house.dropna(subset=['dw.nom.1'])['dw.nom.1']\n",
    "    y2 = republicans_house.dropna(subset=['dw.nom.1'])['first_pc']\n",
    "    republican_corr = np.round(stats.pearsonr(x2,y2).statistic,2)\n",
    "\n",
    "    all_x = pd.concat([x1,x2])\n",
    "    all_y = pd.concat([y1, y2])\n",
    "    all_corr = np.round(stats.pearsonr(all_x, all_y).statistic,2)\n",
    "\n",
    "    \n",
    "    plt.scatter(x1,y1, label='Democrats', color='navy', marker=r'$D$')\n",
    "    plt.scatter(x2, y2, label='Republicans', color='red', marker=r'$R$')\n",
    "    plt.scatter(nancy_x,nancy_y, color='green', marker='o', s=80, label='Nancy Pelosi')\n",
    "    plt.annotate(r'$\\rho_D$={}'.format(democrat_corr), (-0.6,3.3), fontsize=14, bbox=dict(boxstyle=\"round,pad=0.5\", facecolor=\"white\", edgecolor=\"black\"))\n",
    "    plt.annotate(r'$\\rho_R$={}'.format(republican_corr), (1,1), fontsize=14, bbox=dict(boxstyle=\"round,pad=0.5\", facecolor=\"white\", edgecolor=\"black\"))\n",
    "    plt.annotate(r'$\\rho_{{All}}$={}'.format(all_corr), (0,-1.5), fontsize=14, bbox=dict(boxstyle=\"round,pad=0.5\", facecolor=\"white\", edgecolor=\"black\"))\n",
    "\n",
    "    plt.axvline(x=0, color='grey', linestyle='dashed')\n",
    "    plt.axhline(y=0, color='grey', linestyle='dashed')\n",
    "\n",
    "    plt.xlabel('DW-Nominate score')\n",
    "    plt.ylabel('PC1 (Opinion Score)')\n",
    "    plt.title('PC1 of embedding vs. Ground-truth DW-Nominate (Actual)', size=10)\n",
    "    plt.legend()\n",
    "    plt.show()"
   ]
  },
  {
   "cell_type": "markdown",
   "metadata": {},
   "source": [
    "## **4. Compare rankings by method**"
   ]
  },
  {
   "cell_type": "code",
   "execution_count": 30,
   "metadata": {},
   "outputs": [],
   "source": [
    "all_house = pd.concat([democrats_house, republicans_house])\n",
    "all_house['DW-Nominate_rank'] = all_house['dw.nom.1'].rank(ascending=True)\n",
    "all_house['first_pc_rank'] = all_house['first_pc'].rank(ascending=True)\n",
    "\n",
    "democrats_house_ranked = all_house[all_house['party'] == 'D']\n",
    "republicans_house_ranked = all_house[all_house['party'] == 'R']"
   ]
  },
  {
   "cell_type": "code",
   "execution_count": 31,
   "metadata": {},
   "outputs": [
    {
     "ename": "ValueError",
     "evalue": "array must not contain infs or NaNs",
     "output_type": "error",
     "traceback": [
      "\u001b[0;31m---------------------------------------------------------------------------\u001b[0m",
      "\u001b[0;31mValueError\u001b[0m                                Traceback (most recent call last)",
      "\u001b[1;32m/Users/francisglynn-matthews/Library/CloudStorage/GoogleDrive-francisjgmatthews@gmail.com/My Drive/NEW/UCL/Project/Project/Code/disseration_code/5-m-principal-components.ipynb Cell 25\u001b[0m line \u001b[0;36m7\n\u001b[1;32m      <a href='vscode-notebook-cell:/Users/francisglynn-matthews/Library/CloudStorage/GoogleDrive-francisjgmatthews%40gmail.com/My%20Drive/NEW/UCL/Project/Project/Code/disseration_code/5-m-principal-components.ipynb#X35sZmlsZQ%3D%3D?line=4'>5</a>\u001b[0m x1 \u001b[39m=\u001b[39m democrats_house_ranked[\u001b[39m'\u001b[39m\u001b[39mDW-Nominate_rank\u001b[39m\u001b[39m'\u001b[39m]\n\u001b[1;32m      <a href='vscode-notebook-cell:/Users/francisglynn-matthews/Library/CloudStorage/GoogleDrive-francisjgmatthews%40gmail.com/My%20Drive/NEW/UCL/Project/Project/Code/disseration_code/5-m-principal-components.ipynb#X35sZmlsZQ%3D%3D?line=5'>6</a>\u001b[0m y1 \u001b[39m=\u001b[39m democrats_house_ranked[\u001b[39m'\u001b[39m\u001b[39mfirst_pc_rank\u001b[39m\u001b[39m'\u001b[39m]\n\u001b[0;32m----> <a href='vscode-notebook-cell:/Users/francisglynn-matthews/Library/CloudStorage/GoogleDrive-francisjgmatthews%40gmail.com/My%20Drive/NEW/UCL/Project/Project/Code/disseration_code/5-m-principal-components.ipynb#X35sZmlsZQ%3D%3D?line=6'>7</a>\u001b[0m democrat_rank_corr \u001b[39m=\u001b[39m np\u001b[39m.\u001b[39mround(stats\u001b[39m.\u001b[39;49mpearsonr(x1,y1)\u001b[39m.\u001b[39mstatistic,\u001b[39m2\u001b[39m)\n\u001b[1;32m      <a href='vscode-notebook-cell:/Users/francisglynn-matthews/Library/CloudStorage/GoogleDrive-francisjgmatthews%40gmail.com/My%20Drive/NEW/UCL/Project/Project/Code/disseration_code/5-m-principal-components.ipynb#X35sZmlsZQ%3D%3D?line=8'>9</a>\u001b[0m x2 \u001b[39m=\u001b[39m republicans_house_ranked[\u001b[39m'\u001b[39m\u001b[39mDW-Nominate_rank\u001b[39m\u001b[39m'\u001b[39m]\n\u001b[1;32m     <a href='vscode-notebook-cell:/Users/francisglynn-matthews/Library/CloudStorage/GoogleDrive-francisjgmatthews%40gmail.com/My%20Drive/NEW/UCL/Project/Project/Code/disseration_code/5-m-principal-components.ipynb#X35sZmlsZQ%3D%3D?line=9'>10</a>\u001b[0m y2 \u001b[39m=\u001b[39m republicans_house_ranked[\u001b[39m'\u001b[39m\u001b[39mfirst_pc_rank\u001b[39m\u001b[39m'\u001b[39m]\n",
      "File \u001b[0;32m/Library/Frameworks/Python.framework/Versions/3.12/lib/python3.12/site-packages/scipy/stats/_stats_py.py:4837\u001b[0m, in \u001b[0;36mpearsonr\u001b[0;34m(x, y, alternative, method)\u001b[0m\n\u001b[1;32m   4832\u001b[0m ym \u001b[39m=\u001b[39m y\u001b[39m.\u001b[39mastype(dtype) \u001b[39m-\u001b[39m ymean\n\u001b[1;32m   4834\u001b[0m \u001b[39m# Unlike np.linalg.norm or the expression sqrt((xm*xm).sum()),\u001b[39;00m\n\u001b[1;32m   4835\u001b[0m \u001b[39m# scipy.linalg.norm(xm) does not overflow if xm is, for example,\u001b[39;00m\n\u001b[1;32m   4836\u001b[0m \u001b[39m# [-5e210, 5e210, 3e200, -3e200]\u001b[39;00m\n\u001b[0;32m-> 4837\u001b[0m normxm \u001b[39m=\u001b[39m linalg\u001b[39m.\u001b[39;49mnorm(xm)\n\u001b[1;32m   4838\u001b[0m normym \u001b[39m=\u001b[39m linalg\u001b[39m.\u001b[39mnorm(ym)\n\u001b[1;32m   4840\u001b[0m threshold \u001b[39m=\u001b[39m \u001b[39m1e-13\u001b[39m\n",
      "File \u001b[0;32m/Library/Frameworks/Python.framework/Versions/3.12/lib/python3.12/site-packages/scipy/linalg/_misc.py:146\u001b[0m, in \u001b[0;36mnorm\u001b[0;34m(a, ord, axis, keepdims, check_finite)\u001b[0m\n\u001b[1;32m    144\u001b[0m \u001b[39m# Differs from numpy only in non-finite handling and the use of blas.\u001b[39;00m\n\u001b[1;32m    145\u001b[0m \u001b[39mif\u001b[39;00m check_finite:\n\u001b[0;32m--> 146\u001b[0m     a \u001b[39m=\u001b[39m np\u001b[39m.\u001b[39;49masarray_chkfinite(a)\n\u001b[1;32m    147\u001b[0m \u001b[39melse\u001b[39;00m:\n\u001b[1;32m    148\u001b[0m     a \u001b[39m=\u001b[39m np\u001b[39m.\u001b[39masarray(a)\n",
      "File \u001b[0;32m/Library/Frameworks/Python.framework/Versions/3.12/lib/python3.12/site-packages/numpy/lib/function_base.py:630\u001b[0m, in \u001b[0;36masarray_chkfinite\u001b[0;34m(a, dtype, order)\u001b[0m\n\u001b[1;32m    628\u001b[0m a \u001b[39m=\u001b[39m asarray(a, dtype\u001b[39m=\u001b[39mdtype, order\u001b[39m=\u001b[39morder)\n\u001b[1;32m    629\u001b[0m \u001b[39mif\u001b[39;00m a\u001b[39m.\u001b[39mdtype\u001b[39m.\u001b[39mchar \u001b[39min\u001b[39;00m typecodes[\u001b[39m'\u001b[39m\u001b[39mAllFloat\u001b[39m\u001b[39m'\u001b[39m] \u001b[39mand\u001b[39;00m \u001b[39mnot\u001b[39;00m np\u001b[39m.\u001b[39misfinite(a)\u001b[39m.\u001b[39mall():\n\u001b[0;32m--> 630\u001b[0m     \u001b[39mraise\u001b[39;00m \u001b[39mValueError\u001b[39;00m(\n\u001b[1;32m    631\u001b[0m         \u001b[39m\"\u001b[39m\u001b[39marray must not contain infs or NaNs\u001b[39m\u001b[39m\"\u001b[39m)\n\u001b[1;32m    632\u001b[0m \u001b[39mreturn\u001b[39;00m a\n",
      "\u001b[0;31mValueError\u001b[0m: array must not contain infs or NaNs"
     ]
    }
   ],
   "source": [
    "with plt.style.context(\"ggplot\"):\n",
    "\n",
    "    plt.figure(figsize=(11,7))\n",
    "    \n",
    "    x1 = democrats_house_ranked['DW-Nominate_rank']\n",
    "    y1 = democrats_house_ranked['first_pc_rank']\n",
    "    democrat_rank_corr = np.round(stats.pearsonr(x1,y1).statistic,2)\n",
    "\n",
    "    x2 = republicans_house_ranked['DW-Nominate_rank']\n",
    "    y2 = republicans_house_ranked['first_pc_rank']\n",
    "    republican_rank_corr = np.round(stats.pearsonr(x1,y1).statistic,2)\n",
    "\n",
    "    all_rank_x = pd.concat([x1,x2])\n",
    "    all_rank_y = pd.concat([y1, y2])\n",
    "    all_rank_corr = np.round(stats.pearsonr(all_rank_x, all_rank_y).statistic,2)\n",
    "    \n",
    "    plt.scatter(x1,y1, label='democrats', color='navy', marker=r'$D$')\n",
    "    plt.scatter(x2, y2, label='republicans', color='red', marker=r'$R$')\n",
    "\n",
    "    plt.annotate(r'$\\rho_D$={}'.format(democrat_rank_corr), (45,100), fontsize=14, bbox=dict(boxstyle=\"round,pad=0.5\", facecolor=\"white\", edgecolor=\"black\"))\n",
    "    plt.annotate(r'$\\rho_R$={}'.format(republican_rank_corr), (90,65), fontsize=14, bbox=dict(boxstyle=\"round,pad=0.5\", facecolor=\"white\", edgecolor=\"black\"))\n",
    "    plt.annotate(r'$\\rho_{{All}}$={}'.format(all_rank_corr), (30,40), fontsize=14, bbox=dict(boxstyle=\"round,pad=0.5\", facecolor=\"white\", edgecolor=\"black\"))\n",
    "\n",
    "\n",
    "    plt.xlabel('DW-Nominate ranking')\n",
    "    plt.ylabel('PC1 ranking')\n",
    "    plt.title('PC1 of embedding vs. Ground-truth DW-Nominate (ranking)', size=10)\n",
    "    plt.legend()\n",
    "    plt.show()"
   ]
  },
  {
   "cell_type": "code",
   "execution_count": null,
   "metadata": {},
   "outputs": [],
   "source": []
  },
  {
   "cell_type": "code",
   "execution_count": null,
   "metadata": {},
   "outputs": [],
   "source": []
  },
  {
   "cell_type": "code",
   "execution_count": null,
   "metadata": {},
   "outputs": [],
   "source": []
  },
  {
   "cell_type": "code",
   "execution_count": null,
   "metadata": {},
   "outputs": [],
   "source": []
  }
 ],
 "metadata": {
  "kernelspec": {
   "display_name": "Python 3",
   "language": "python",
   "name": "python3"
  },
  "language_info": {
   "codemirror_mode": {
    "name": "ipython",
    "version": 3
   },
   "file_extension": ".py",
   "mimetype": "text/x-python",
   "name": "python",
   "nbconvert_exporter": "python",
   "pygments_lexer": "ipython3",
   "version": "3.12.0"
  }
 },
 "nbformat": 4,
 "nbformat_minor": 2
}
