{
 "cells": [
  {
   "cell_type": "code",
   "execution_count": 1,
   "id": "2ec3b4e1",
   "metadata": {
    "execution": {
     "iopub.execute_input": "2024-09-04T09:05:58.083626Z",
     "iopub.status.busy": "2024-09-04T09:05:58.083309Z",
     "iopub.status.idle": "2024-09-04T09:05:58.087931Z",
     "shell.execute_reply": "2024-09-04T09:05:58.087522Z"
    },
    "papermill": {
     "duration": 0.011797,
     "end_time": "2024-09-04T09:05:58.089434",
     "exception": false,
     "start_time": "2024-09-04T09:05:58.077637",
     "status": "completed"
    },
    "tags": [
     "parameters"
    ]
   },
   "outputs": [],
   "source": [
    "# Set thresholds for kout and kin\n",
    "congressperson_kout=1\n",
    "followee_kin=1"
   ]
  },
  {
   "cell_type": "code",
   "execution_count": 105,
   "id": "faaac942",
   "metadata": {
    "execution": {
     "iopub.execute_input": "2024-09-04T09:05:58.095029Z",
     "iopub.status.busy": "2024-09-04T09:05:58.094855Z",
     "iopub.status.idle": "2024-09-04T09:05:58.097256Z",
     "shell.execute_reply": "2024-09-04T09:05:58.096879Z"
    },
    "papermill": {
     "duration": 0.006225,
     "end_time": "2024-09-04T09:05:58.098417",
     "exception": false,
     "start_time": "2024-09-04T09:05:58.092192",
     "status": "completed"
    },
    "tags": [
     "injected-parameters"
    ]
   },
   "outputs": [],
   "source": [
    "# Parameters\n",
    "congressperson_kout = 1\n",
    "followee_kin = 10\n"
   ]
  },
  {
   "cell_type": "code",
   "execution_count": 106,
   "id": "56742614",
   "metadata": {
    "execution": {
     "iopub.execute_input": "2024-09-04T09:05:58.102703Z",
     "iopub.status.busy": "2024-09-04T09:05:58.102560Z",
     "iopub.status.idle": "2024-09-04T09:05:58.524401Z",
     "shell.execute_reply": "2024-09-04T09:05:58.524085Z"
    },
    "papermill": {
     "duration": 0.425797,
     "end_time": "2024-09-04T09:05:58.526029",
     "exception": false,
     "start_time": "2024-09-04T09:05:58.100232",
     "status": "completed"
    },
    "tags": []
   },
   "outputs": [],
   "source": [
    "import os\n",
    "import datetime\n",
    "import pandas as pd\n",
    "from networkx.algorithms import bipartite\n",
    "\n",
    "from utils.network_analysis import *"
   ]
  },
  {
   "cell_type": "markdown",
   "id": "565960c4",
   "metadata": {
    "papermill": {
     "duration": 0.001392,
     "end_time": "2024-09-04T09:05:58.529207",
     "exception": false,
     "start_time": "2024-09-04T09:05:58.527815",
     "status": "completed"
    },
    "tags": []
   },
   "source": [
    "## **1. Read following dataframes for House and Senate**"
   ]
  },
  {
   "cell_type": "code",
   "execution_count": 107,
   "id": "590a60a7",
   "metadata": {
    "execution": {
     "iopub.execute_input": "2024-09-04T09:05:58.532220Z",
     "iopub.status.busy": "2024-09-04T09:05:58.531947Z",
     "iopub.status.idle": "2024-09-04T09:05:59.097830Z",
     "shell.execute_reply": "2024-09-04T09:05:59.097533Z"
    },
    "papermill": {
     "duration": 0.568523,
     "end_time": "2024-09-04T09:05:59.098774",
     "exception": false,
     "start_time": "2024-09-04T09:05:58.530251",
     "status": "completed"
    },
    "tags": []
   },
   "outputs": [
    {
     "name": "stdout",
     "output_type": "stream",
     "text": [
      "HOUSE FOLLOWING DATAFRAME:\n",
      "109 unique congressmembers\n",
      "116719 unique followees\n",
      "205737 links\n",
      "\n",
      "SENATE FOLLOWING DATAFRAME:\n",
      "55 unique congressmembers\n",
      "58729 unique followees\n",
      "79837 links\n",
      "\n",
      "ALL CONGRESS FOLLOWING DATAFRAME:\n",
      "164 unique congressmembers\n",
      "156200 unique followees\n",
      "285574 links\n"
     ]
    }
   ],
   "source": [
    "# Read House and Senate following dataframes\n",
    "master_following_house = pd.read_csv('data/interim/house_master_following_table.csv')\n",
    "master_following_senate = pd.read_csv('data/interim/senate_master_following_table.csv')\n",
    "master_following_all = pd.read_csv('data/interim/congress_master_following_table.csv')\n",
    "\n",
    "# Print summary statistics\n",
    "print('HOUSE FOLLOWING DATAFRAME:')\n",
    "print(f'{master_following_house['congressperson'].nunique()} unique congressmembers')\n",
    "print(f'{master_following_house['followee'].nunique()} unique followees')\n",
    "print(f'{len(master_following_house)} links')\n",
    "print(''*10)\n",
    "\n",
    "print('SENATE FOLLOWING DATAFRAME:')\n",
    "print(f'{master_following_senate['congressperson'].nunique()} unique congressmembers')\n",
    "print(f'{master_following_senate['followee'].nunique()} unique followees')\n",
    "print(f'{len(master_following_senate)} links')\n",
    "print(''*10)\n",
    "\n",
    "print('ALL CONGRESS FOLLOWING DATAFRAME:')\n",
    "print(f'{master_following_all['congressperson'].nunique()} unique congressmembers')\n",
    "print(f'{master_following_all['followee'].nunique()} unique followees')\n",
    "print(f'{len(master_following_all)} links')"
   ]
  },
  {
   "cell_type": "markdown",
   "id": "e36986cd",
   "metadata": {
    "papermill": {
     "duration": 0.001422,
     "end_time": "2024-09-04T09:05:59.101803",
     "exception": false,
     "start_time": "2024-09-04T09:05:59.100381",
     "status": "completed"
    },
    "tags": []
   },
   "source": [
    "## **2. Remove nodes based on Out/In-degree**"
   ]
  },
  {
   "cell_type": "code",
   "execution_count": 108,
   "id": "0b4fab90",
   "metadata": {
    "execution": {
     "iopub.execute_input": "2024-09-04T09:05:59.104546Z",
     "iopub.status.busy": "2024-09-04T09:05:59.104445Z",
     "iopub.status.idle": "2024-09-04T09:05:59.106987Z",
     "shell.execute_reply": "2024-09-04T09:05:59.106722Z"
    },
    "papermill": {
     "duration": 0.00484,
     "end_time": "2024-09-04T09:05:59.107825",
     "exception": false,
     "start_time": "2024-09-04T09:05:59.102985",
     "status": "completed"
    },
    "tags": []
   },
   "outputs": [],
   "source": [
    "def removeNodes(df, congressperson_kout=1, followee_kin=1):\n",
    "    \"\"\"Remove nodes from the master following tables (bipartite networks) if either congressmember nodes or followee nodes have k_out/k_in below a certain threshold\n",
    "\n",
    "    Args:\n",
    "        - df (pd.DataFrame) : dataframe following links between congressperson and followees\n",
    "        - congressperson_kout (int) : minimum number of out-degree (to followees) a congressperson must have to be retained in the network\n",
    "        - followee_kin (int) : minumum number of in-degree (from congressmembers) a followee must have to be retained in the network\n",
    "    \n",
    "    \"\"\"\n",
    "    k_in_followees = df.groupby('followee')['congressperson'].nunique() \\\n",
    "                        .reset_index() \\\n",
    "                        .sort_values(by='congressperson', ascending=False) \\\n",
    "                        .rename(columns={'congressperson' : 'k_in'})\n",
    "\n",
    "\n",
    "    k_out_congressperson = df.groupby('congressperson')['followee'].nunique() \\\n",
    "                        .reset_index() \\\n",
    "                        .sort_values(by='followee', ascending=False) \\\n",
    "                        .rename(columns={'followee' : 'k_out'})\n",
    "    \n",
    "\n",
    "    filtered_followees = list(k_in_followees[k_in_followees['k_in'] >= followee_kin]['followee'])\n",
    "    filtered_congressperons = list(k_out_congressperson[k_out_congressperson['k_out'] >= congressperson_kout]['congressperson'])\n",
    "\n",
    "    df = df[df['congressperson'].isin(filtered_congressperons)]\n",
    "    df = df[df['followee'].isin(filtered_followees)]\n",
    "\n",
    "    return df.sort_values(by=['congressperson', 'followee'], ascending=False)\n"
   ]
  },
  {
   "cell_type": "markdown",
   "id": "e8586505",
   "metadata": {
    "papermill": {
     "duration": 0.001041,
     "end_time": "2024-09-04T09:05:59.110301",
     "exception": false,
     "start_time": "2024-09-04T09:05:59.109260",
     "status": "completed"
    },
    "tags": []
   },
   "source": [
    "#### **2.1 Remove nodes**"
   ]
  },
  {
   "cell_type": "code",
   "execution_count": 109,
   "id": "becbf2a9",
   "metadata": {
    "execution": {
     "iopub.execute_input": "2024-09-04T09:05:59.113000Z",
     "iopub.status.busy": "2024-09-04T09:05:59.112899Z",
     "iopub.status.idle": "2024-09-04T09:05:59.605816Z",
     "shell.execute_reply": "2024-09-04T09:05:59.605515Z"
    },
    "papermill": {
     "duration": 0.495401,
     "end_time": "2024-09-04T09:05:59.606851",
     "exception": false,
     "start_time": "2024-09-04T09:05:59.111450",
     "status": "completed"
    },
    "tags": []
   },
   "outputs": [],
   "source": [
    "# Remove low degree B and C nodes\n",
    "master_following_house = removeNodes(master_following_house, congressperson_kout=congressperson_kout, followee_kin=followee_kin)\n",
    "master_following_senate = removeNodes(master_following_senate, congressperson_kout=congressperson_kout, followee_kin=followee_kin)\n",
    "master_following_all = removeNodes(master_following_all, congressperson_kout=congressperson_kout, followee_kin=followee_kin)"
   ]
  },
  {
   "cell_type": "code",
   "execution_count": 7,
   "id": "729d9efd",
   "metadata": {
    "execution": {
     "iopub.execute_input": "2024-09-04T09:05:59.610222Z",
     "iopub.status.busy": "2024-09-04T09:05:59.610114Z",
     "iopub.status.idle": "2024-09-04T09:05:59.611915Z",
     "shell.execute_reply": "2024-09-04T09:05:59.611669Z"
    },
    "papermill": {
     "duration": 0.004293,
     "end_time": "2024-09-04T09:05:59.612673",
     "exception": false,
     "start_time": "2024-09-04T09:05:59.608380",
     "status": "completed"
    },
    "tags": []
   },
   "outputs": [],
   "source": [
    "def saveEdgelist(df, filename = 'saveedgelist_output.csv'):\n",
    "    \"\"\"Save edgelists for processed networks (from following dataframe)\"\"\"\n",
    "\n",
    "    folder_path = 'data/processed/edgelists/'\n",
    "    file_path = folder_path + filename\n",
    "    df[['congressperson', 'followee']].to_csv(file_path, header=False, index=False)\n",
    "\n",
    "    return file_path"
   ]
  },
  {
   "cell_type": "markdown",
   "id": "a67d856f",
   "metadata": {
    "papermill": {
     "duration": 0.001179,
     "end_time": "2024-09-04T09:05:59.615041",
     "exception": false,
     "start_time": "2024-09-04T09:05:59.613862",
     "status": "completed"
    },
    "tags": []
   },
   "source": [
    "#### **2.2 Save edgelists / training data**"
   ]
  },
  {
   "cell_type": "code",
   "execution_count": 8,
   "id": "10d74526",
   "metadata": {
    "execution": {
     "iopub.execute_input": "2024-09-04T09:05:59.617622Z",
     "iopub.status.busy": "2024-09-04T09:05:59.617529Z",
     "iopub.status.idle": "2024-09-04T09:05:59.683665Z",
     "shell.execute_reply": "2024-09-04T09:05:59.683385Z"
    },
    "papermill": {
     "duration": 0.068538,
     "end_time": "2024-09-04T09:05:59.684602",
     "exception": false,
     "start_time": "2024-09-04T09:05:59.616064",
     "status": "completed"
    },
    "tags": []
   },
   "outputs": [],
   "source": [
    "house_path = saveEdgelist(master_following_house, f'house_edgelist_kout{congressperson_kout}_kin{followee_kin}.csv')\n",
    "senate_path = saveEdgelist(master_following_senate, f'senate_edgelist_kout{congressperson_kout}_kin{followee_kin}.csv')\n",
    "all_path = saveEdgelist(master_following_all, f'combined_edgelist_kout{congressperson_kout}_kin{followee_kin}.csv')"
   ]
  }
 ],
 "metadata": {
  "kernelspec": {
   "display_name": "Python 3",
   "language": "python",
   "name": "python3"
  },
  "language_info": {
   "codemirror_mode": {
    "name": "ipython",
    "version": 3
   },
   "file_extension": ".py",
   "mimetype": "text/x-python",
   "name": "python",
   "nbconvert_exporter": "python",
   "pygments_lexer": "ipython3",
   "version": "3.12.0"
  },
  "papermill": {
   "default_parameters": {},
   "duration": 2.503074,
   "end_time": "2024-09-04T09:05:59.902393",
   "environment_variables": {},
   "exception": null,
   "input_path": "3.1-d-congress-accounts-create-networks.ipynb",
   "output_path": "3.1-d-congress-accounts-create-networks.ipynb",
   "parameters": {
    "congressperson_kout": 1,
    "followee_kin": 10
   },
   "start_time": "2024-09-04T09:05:57.399319",
   "version": "2.6.0"
  }
 },
 "nbformat": 4,
 "nbformat_minor": 5
}
