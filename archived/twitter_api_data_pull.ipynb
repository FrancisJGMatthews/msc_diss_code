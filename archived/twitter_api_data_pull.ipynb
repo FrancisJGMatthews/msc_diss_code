{
 "cells": [
  {
   "cell_type": "markdown",
   "metadata": {},
   "source": [
    "### Notebook to explore accessing Twitter data via API (NOW REDUNDANT)"
   ]
  },
  {
   "cell_type": "markdown",
   "metadata": {},
   "source": [
    "### **0. Imports**"
   ]
  },
  {
   "cell_type": "code",
   "execution_count": 1,
   "metadata": {},
   "outputs": [],
   "source": [
    "import tweepy\n",
    "import os\n",
    "import json\n",
    "import pandas as pd \n",
    "from dotenv import load_dotenv, find_dotenv"
   ]
  },
  {
   "cell_type": "markdown",
   "metadata": {},
   "source": [
    "\n",
    "### **1. Load list of Twitter usernames of Congresspeople**"
   ]
  },
  {
   "cell_type": "code",
   "execution_count": 2,
   "metadata": {},
   "outputs": [
    {
     "name": "stdout",
     "output_type": "stream",
     "text": [
      "Twitter usernames of 184 congresspeople stored\n"
     ]
    }
   ],
   "source": [
    "# Read house of reps members and senate members lists --> union\n",
    "house_of_reps_members = pd.read_csv('../data/Data about Opinion Measurement/1. Following Data/2. Information about congressional members insde 318 accounts/House_list_in_318_accounts.csv')\n",
    "senate_members = pd.read_csv('../data/Data about Opinion Measurement/1. Following Data/2. Information about congressional members insde 318 accounts/Senate_list_in_318_accounts.csv')\n",
    "\n",
    "all_members = pd.concat([house_of_reps_members, senate_members], ignore_index=True)\n",
    "all_members.head(8)\n",
    "\n",
    "# Store Twitter usernames of Congresspeople who have Twitter\n",
    "twitter_usernames = all_members['twitter_name']\n",
    "print(f'Twitter usernames of {len(twitter_usernames)} congresspeople stored')"
   ]
  },
  {
   "cell_type": "markdown",
   "metadata": {},
   "source": [
    "### **2. Twitter API**"
   ]
  },
  {
   "cell_type": "code",
   "execution_count": 6,
   "metadata": {},
   "outputs": [],
   "source": [
    "# load variables from .env\n",
    "dotenv_path = find_dotenv()\n",
    "load_dotenv(dotenv_path)\n",
    "\n",
    "# Load Twitter API tokens\n",
    "bearer_token = os.environ.get('bearer_token')\n",
    "consumer_key = os.environ.get('consumer_key')\n",
    "consumer_secret = os.environ.get('consumer_secret')\n",
    "access_token = os.environ.get('access_token')\n",
    "access_token_secret = os.environ.get('access_token_secret')\n"
   ]
  },
  {
   "cell_type": "code",
   "execution_count": 7,
   "metadata": {},
   "outputs": [],
   "source": [
    "# authenticate\n",
    "client = tweepy.Client(\n",
    "    consumer_key=consumer_key, consumer_secret=consumer_secret,\n",
    "    access_token=access_token, access_token_secret=access_token_secret\n",
    ")"
   ]
  },
  {
   "cell_type": "code",
   "execution_count": 8,
   "metadata": {},
   "outputs": [],
   "source": [
    "response = client.get_me(user_fields = [\"created_at\", \"description\"])"
   ]
  },
  {
   "cell_type": "code",
   "execution_count": 19,
   "metadata": {},
   "outputs": [],
   "source": [
    "# Authenticate to Twitter\n",
    "auth = tweepy.OAuthHandler(\"7Nt97lVzuBcUex7O8d9MJ7IE1\", \"0LUO2baUkVh9YE1kYH8Khv66EjZ1MGEgGtlng3CuOURhjVOaFP\")\n",
    "auth.set_access_token(\"2694048481-fW1MXwiTK6n7SUskX1aGwyc8MRFS9wRkJ6LzNUO\", \"smzjnj1w4wlkxR1SSBV02wGvSZZ3URnFhRMLD5mwsTdBI\")"
   ]
  },
  {
   "cell_type": "code",
   "execution_count": 23,
   "metadata": {},
   "outputs": [],
   "source": [
    "# Create API object\n",
    "api = tweepy.API(auth)"
   ]
  },
  {
   "cell_type": "code",
   "execution_count": 26,
   "metadata": {},
   "outputs": [
    {
     "ename": "AttributeError",
     "evalue": "'API' object has no attribute 'get_me'",
     "output_type": "error",
     "traceback": [
      "\u001b[0;31m---------------------------------------------------------------------------\u001b[0m",
      "\u001b[0;31mAttributeError\u001b[0m                            Traceback (most recent call last)",
      "\u001b[1;32m/Users/francisglynn-matthews/Library/CloudStorage/GoogleDrive-francisjgmatthews@gmail.com/My Drive/NEW/UCL/Project/Project/Code/play_around/twitter_api/test_data_pull.ipynb Cell 7\u001b[0m line \u001b[0;36m1\n\u001b[0;32m----> <a href='vscode-notebook-cell:/Users/francisglynn-matthews/Library/CloudStorage/GoogleDrive-francisjgmatthews%40gmail.com/My%20Drive/NEW/UCL/Project/Project/Code/play_around/twitter_api/test_data_pull.ipynb#X21sZmlsZQ%3D%3D?line=0'>1</a>\u001b[0m my_account \u001b[39m=\u001b[39m api\u001b[39m.\u001b[39;49mget_me()\n",
      "\u001b[0;31mAttributeError\u001b[0m: 'API' object has no attribute 'get_me'"
     ]
    }
   ],
   "source": [
    "my_account = api.get_me()"
   ]
  },
  {
   "cell_type": "code",
   "execution_count": null,
   "metadata": {},
   "outputs": [],
   "source": []
  }
 ],
 "metadata": {
  "kernelspec": {
   "display_name": "Python 3",
   "language": "python",
   "name": "python3"
  },
  "language_info": {
   "codemirror_mode": {
    "name": "ipython",
    "version": 3
   },
   "file_extension": ".py",
   "mimetype": "text/x-python",
   "name": "python",
   "nbconvert_exporter": "python",
   "pygments_lexer": "ipython3",
   "version": "3.12.0"
  }
 },
 "nbformat": 4,
 "nbformat_minor": 2
}
