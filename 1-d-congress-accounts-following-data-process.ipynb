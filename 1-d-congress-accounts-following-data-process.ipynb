{
 "cells": [
  {
   "cell_type": "code",
   "execution_count": 8,
   "metadata": {},
   "outputs": [],
   "source": [
    "import os\n",
    "import pandas as pd\n",
    "from networkx.algorithms import bipartite\n",
    "\n",
    "from utils.network_analysis import *"
   ]
  },
  {
   "cell_type": "markdown",
   "metadata": {},
   "source": [
    "## **1. Read / process data**"
   ]
  },
  {
   "cell_type": "markdown",
   "metadata": {},
   "source": [
    "#### **1.1 Read summary csv of all 183 congresspeople**"
   ]
  },
  {
   "cell_type": "code",
   "execution_count": 9,
   "metadata": {},
   "outputs": [],
   "source": [
    "# Pull list of all 183 congressmembers\n",
    "filepath = 'data/raw/congressmembers_characteristics.csv'\n",
    "all_congress_members = pd.read_csv(filepath).drop(['Unnamed: 0'], axis=1)"
   ]
  },
  {
   "cell_type": "markdown",
   "metadata": {},
   "source": [
    "#### **1.2 Read in following CSV for each congressperson, compile into dataframe**"
   ]
  },
  {
   "cell_type": "code",
   "execution_count": 10,
   "metadata": {},
   "outputs": [
    {
     "name": "stdout",
     "output_type": "stream",
     "text": [
      "Full following table produced: 164 congresspeople, 156200 unique followees\n"
     ]
    },
    {
     "data": {
      "text/html": [
       "<div>\n",
       "<style scoped>\n",
       "    .dataframe tbody tr th:only-of-type {\n",
       "        vertical-align: middle;\n",
       "    }\n",
       "\n",
       "    .dataframe tbody tr th {\n",
       "        vertical-align: top;\n",
       "    }\n",
       "\n",
       "    .dataframe thead th {\n",
       "        text-align: right;\n",
       "    }\n",
       "</style>\n",
       "<table border=\"1\" class=\"dataframe\">\n",
       "  <thead>\n",
       "    <tr style=\"text-align: right;\">\n",
       "      <th></th>\n",
       "      <th>congressperson</th>\n",
       "      <th>followee</th>\n",
       "      <th>created_at</th>\n",
       "      <th>followee_followers_count</th>\n",
       "      <th>followee_following_count</th>\n",
       "    </tr>\n",
       "  </thead>\n",
       "  <tbody>\n",
       "    <tr>\n",
       "      <th>1</th>\n",
       "      <td>chuckgrassley</td>\n",
       "      <td>housegop</td>\n",
       "      <td>2008</td>\n",
       "      <td>1644576</td>\n",
       "      <td>852</td>\n",
       "    </tr>\n",
       "    <tr>\n",
       "      <th>2</th>\n",
       "      <td>chuckgrassley</td>\n",
       "      <td>senategop</td>\n",
       "      <td>2008</td>\n",
       "      <td>1566688</td>\n",
       "      <td>94</td>\n",
       "    </tr>\n",
       "    <tr>\n",
       "      <th>3</th>\n",
       "      <td>chuckgrassley</td>\n",
       "      <td>ronnamcdaniel</td>\n",
       "      <td>2014</td>\n",
       "      <td>1253363</td>\n",
       "      <td>2629</td>\n",
       "    </tr>\n",
       "    <tr>\n",
       "      <th>4</th>\n",
       "      <td>chuckgrassley</td>\n",
       "      <td>govmikehuckabee</td>\n",
       "      <td>2008</td>\n",
       "      <td>1914352</td>\n",
       "      <td>580</td>\n",
       "    </tr>\n",
       "    <tr>\n",
       "      <th>5</th>\n",
       "      <td>chuckgrassley</td>\n",
       "      <td>newtgingrich</td>\n",
       "      <td>2009</td>\n",
       "      <td>2365337</td>\n",
       "      <td>1006</td>\n",
       "    </tr>\n",
       "  </tbody>\n",
       "</table>\n",
       "</div>"
      ],
      "text/plain": [
       "  congressperson         followee  created_at  followee_followers_count  \\\n",
       "1  chuckgrassley         housegop        2008                   1644576   \n",
       "2  chuckgrassley        senategop        2008                   1566688   \n",
       "3  chuckgrassley    ronnamcdaniel        2014                   1253363   \n",
       "4  chuckgrassley  govmikehuckabee        2008                   1914352   \n",
       "5  chuckgrassley     newtgingrich        2009                   2365337   \n",
       "\n",
       "   followee_following_count  \n",
       "1                       852  \n",
       "2                        94  \n",
       "3                      2629  \n",
       "4                       580  \n",
       "5                      1006  "
      ]
     },
     "execution_count": 10,
     "metadata": {},
     "output_type": "execute_result"
    }
   ],
   "source": [
    "# raw data folder\n",
    "following_data_folder = 'data/raw/following_data_raw/'\n",
    "arr = os.listdir(following_data_folder)\n",
    "\n",
    "# Iterate through CSVs, compile into dataframe\n",
    "df_list = []\n",
    "for file in arr:\n",
    "    filepath = following_data_folder + file\n",
    "    congressperson = '_'.join(file.split('_')[1:-1]) # Get username of congressperson from filename\n",
    "\n",
    "    # Read following data, reformat columns\n",
    "    following_table = pd.read_csv(filepath).rename(columns={'user_name': 'followee', 'followers_count' : 'followee_followers_count', 'following_count' : 'followee_following_count'})\n",
    "    following_table['congressperson'] = congressperson\n",
    "    df_list.append(following_table)\n",
    "\n",
    "# Concat into master following dataframe   \n",
    "full_following_table = pd.concat(df_list)\n",
    "\n",
    "# Data value formatting\n",
    "full_following_table['followee'] = full_following_table['followee'].str.lower()\n",
    "full_following_table['congressperson'] = full_following_table['congressperson'].str.lower()\n",
    "full_following_table['created_at'] = full_following_table['created_at'].str.extract(r'(\\d{4})').astype(int) # Extract year that followee account was created\n",
    "full_following_table = full_following_table[['congressperson', 'followee', 'created_at', 'followee_followers_count', 'followee_following_count']]\n",
    "\n",
    "# Filter out followee accounts if created > 2015\n",
    "full_following_table = full_following_table[full_following_table['created_at'] <= 2015]\n",
    "\n",
    "# Filter out follows between congresspeople (retain only Congressperson -> noncongress follows)\n",
    "congressperson_list = list(full_following_table['congressperson'].unique())\n",
    "full_following_table = full_following_table[~full_following_table['followee'].isin(congressperson_list)]\n",
    "\n",
    "# Print summary counts\n",
    "print(f'Full following table produced: {full_following_table['congressperson'].nunique()} congresspeople, {full_following_table['followee'].nunique()} unique followees')\n",
    "full_following_table.head(5)"
   ]
  },
  {
   "cell_type": "markdown",
   "metadata": {},
   "source": [
    "#### **1.3 Join info on congresspersons, save master table to CSV**"
   ]
  },
  {
   "cell_type": "code",
   "execution_count": 11,
   "metadata": {},
   "outputs": [
    {
     "name": "stdout",
     "output_type": "stream",
     "text": [
      "TOTAL FOLLOWING DATAFRAME:\n",
      "164 unique congressmembers\n",
      "156200 unique followees\n",
      "285574 links\n"
     ]
    }
   ],
   "source": [
    "# Join info on congressperson to following list\n",
    "master_following = full_following_table.merge(all_congress_members, on='congressperson', how='left')\n",
    "\n",
    "# Rename columns\n",
    "master_following = master_following.rename(columns = {'created_at' : 'followee_created_at', \\\n",
    "                                                      'party' : 'congressperson_party', \\\n",
    "                                                      'dw.nom.1' : 'congressperson_DW', \\\n",
    "                                                      'chamber' : 'congressperson_chamber', \\\n",
    "                                                      'gender' : 'congressperson_gender', \\\n",
    "                                                      'stdis' : 'congressperson_state', \\\n",
    "                                                      'following_count' : 'congressperson_following_count'})\n",
    "\n",
    "\n",
    "# Remove multiple follower/following counts for the same followee node -> retain maximum of possible values for each node\n",
    "master_following['followee_followers_count'] = master_following.groupby('followee')['followee_followers_count'].transform('max')\n",
    "master_following['followee_following_count'] = master_following.groupby('followee')['followee_following_count'].transform('max')\n",
    "\n",
    "\n",
    "# Save final master following table to csv\n",
    "master_following.to_csv('data/interim/congress_master_following_table.csv', header=True, index=False)\n",
    "master_following.head(5)\n",
    "\n",
    "print('TOTAL FOLLOWING DATAFRAME:')\n",
    "print(f'{master_following['congressperson'].nunique()} unique congressmembers')\n",
    "print(f'{master_following['followee'].nunique()} unique followees')\n",
    "print(f'{len(master_following)} links')"
   ]
  },
  {
   "cell_type": "markdown",
   "metadata": {},
   "source": [
    "#### **1.4 Split into House and Senate dataframes, save to CSVs**"
   ]
  },
  {
   "cell_type": "code",
   "execution_count": 12,
   "metadata": {},
   "outputs": [
    {
     "name": "stdout",
     "output_type": "stream",
     "text": [
      "HOUSE FOLLOWING DATAFRAME:\n",
      "109 unique congressmembers\n",
      "116719 unique followees\n",
      "205737 links\n",
      "\n",
      "SENATE FOLLOWING DATAFRAME:\n",
      "55 unique congressmembers\n",
      "58729 unique followees\n",
      "79837 links\n"
     ]
    }
   ],
   "source": [
    "# Separate into House and Senate\n",
    "master_following_house = master_following[master_following['congressperson_chamber'] == 'House']\n",
    "master_following_senate = master_following[master_following['congressperson_chamber'] == 'Senate']\n",
    "\n",
    "print('HOUSE FOLLOWING DATAFRAME:')\n",
    "print(f'{master_following_house['congressperson'].nunique()} unique congressmembers')\n",
    "print(f'{master_following_house['followee'].nunique()} unique followees')\n",
    "print(f'{len(master_following_house)} links')\n",
    "print(''*10)\n",
    "\n",
    "print('SENATE FOLLOWING DATAFRAME:')\n",
    "print(f'{master_following_senate['congressperson'].nunique()} unique congressmembers')\n",
    "print(f'{master_following_senate['followee'].nunique()} unique followees')\n",
    "print(f'{len(master_following_senate)} links')\n",
    "\n",
    "# Save House and Senate following tables to csvs\n",
    "master_following_house.to_csv('data/interim/house_master_following_table.csv', header=True, index=False)\n",
    "master_following_senate.to_csv('data/interim/senate_master_following_table.csv', header=True, index=False)"
   ]
  },
  {
   "cell_type": "code",
   "execution_count": null,
   "metadata": {},
   "outputs": [],
   "source": []
  }
 ],
 "metadata": {
  "kernelspec": {
   "display_name": "Python 3",
   "language": "python",
   "name": "python3"
  },
  "language_info": {
   "codemirror_mode": {
    "name": "ipython",
    "version": 3
   },
   "file_extension": ".py",
   "mimetype": "text/x-python",
   "name": "python",
   "nbconvert_exporter": "python",
   "pygments_lexer": "ipython3",
   "version": "3.12.0"
  }
 },
 "nbformat": 4,
 "nbformat_minor": 2
}
